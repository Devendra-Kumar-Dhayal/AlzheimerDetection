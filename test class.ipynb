{
 "cells": [
  {
   "cell_type": "code",
   "execution_count": 3,
   "id": "b9023b88",
   "metadata": {},
   "outputs": [],
   "source": [
    "#import tensorflow as tf\n",
    "import os\n",
    "import numpy as np\n",
    "import cv2  \n",
    "import glob \n",
    "from matplotlib import pyplot as plt\n",
    "import joblib"
   ]
  },
  {
   "cell_type": "code",
   "execution_count": 4,
   "id": "a7104943",
   "metadata": {},
   "outputs": [],
   "source": [
    "# for tensorflow only\n",
    "#print(\"Num GPUs Available: \", len(tf.config.list_physical_devices('GPU')))"
   ]
  },
  {
   "cell_type": "code",
   "execution_count": 5,
   "id": "bbf441a8-e525-43c6-ad5e-db379055a05c",
   "metadata": {},
   "outputs": [],
   "source": [
    "#saving model \n",
    "def save_mod(model,Model_name):\n",
    "    change_dir(r\"C:\\Users\\iamne\\JupyterNotebookServer\\dev\\ProjAlzhiemer\")\n",
    "    Model_name+='.sav'\n",
    "    joblib.dump(model,Model_name)"
   ]
  },
  {
   "cell_type": "code",
   "execution_count": 6,
   "id": "097fb17a",
   "metadata": {},
   "outputs": [
    {
     "name": "stdout",
     "output_type": "stream",
     "text": [
      "Current working directory  C:\\Users\\iamne\\JupyterNotebookServer\\dev\\ProjAlzhiemer\n",
      "Directory changed successfully  E:\\Dataset\\Alzheimer_s Dataset\n"
     ]
    }
   ],
   "source": [
    "#Changing Current Working Directory;\n",
    "path = r\"E:\\Dataset\\Alzheimer_s Dataset\"\n",
    "def change_dir(path):\n",
    "    retval = os.getcwd()    # Check current working directory.\n",
    "    print(\"Current working directory \", retval) \n",
    "    os.chdir( path )   # Now change the directory.\n",
    "    retval = os.getcwd() # Check current working directory.\n",
    "    print (\"Directory changed successfully \",retval) \n",
    "change_dir(path)"
   ]
  },
  {
   "cell_type": "code",
   "execution_count": 7,
   "id": "186286f5",
   "metadata": {},
   "outputs": [
    {
     "name": "stdout",
     "output_type": "stream",
     "text": [
      "Mild =  717\n",
      "Mod =  52\n",
      "Non =  2560\n",
      "VMild =  1792\n"
     ]
    }
   ],
   "source": [
    "# reading images from directory\n",
    "\n",
    "def load_image(path):\n",
    "    lst=[]\n",
    "    for image_path in glob.glob(path):\n",
    "        img = cv2.imread(image_path,0)\n",
    "        img = img.reshape(1,36608)\n",
    "        lst.append(img[0])\n",
    "    return lst\n",
    "    \n",
    "temp = path + r\"\\train\\MildDemented\\*.jpg\"\n",
    "Mild_test = load_image(temp)\n",
    "print(\"Mild = \",len(Mild_test))\n",
    "temp = path + r\"\\train\\ModerateDemented\\*.jpg\"\n",
    "Mod_test = load_image(temp)\n",
    "print(\"Mod = \",len(Mod_test))\n",
    "temp = path + r\"\\train\\NonDemented\\*.jpg\"\n",
    "Non_test = load_image(temp)\n",
    "print(\"Non = \",len(Non_test))\n",
    "temp = path + r\"\\train\\VeryMildDemented\\*.jpg\"\n",
    "VMild_test = load_image(temp)\n",
    "print(\"VMild = \",len(VMild_test))"
   ]
  },
  {
   "cell_type": "code",
   "execution_count": 8,
   "id": "e4ba8fed",
   "metadata": {},
   "outputs": [],
   "source": [
    "# Verifying image loading\n",
    "#plt.axis(\"off\")\n",
    "#plot = plt.imshow(Mild_test[178])"
   ]
  },
  {
   "cell_type": "code",
   "execution_count": 9,
   "id": "2786aa61",
   "metadata": {},
   "outputs": [],
   "source": [
    "from sklearn.tree import DecisionTreeClassifier\n",
    "from sklearn.ensemble import RandomForestClassifier\n",
    "from sklearn.svm import SVC\n",
    "from sklearn.model_selection import cross_val_score\n",
    "from sklearn.model_selection import RepeatedStratifiedKFold\n",
    "from sklearn.ensemble import VotingClassifier\n",
    "from sklearn.pipeline import Pipeline\n",
    "from sklearn.ensemble import BaggingClassifier\n"
   ]
  },
  {
   "cell_type": "code",
   "execution_count": 10,
   "id": "de6dbdea",
   "metadata": {},
   "outputs": [],
   "source": [
    "train_x = Mild_test+VMild_test+Mod_test+Non_test\n",
    "train_y = []\n",
    "\n",
    "def ohe_ml(*lst):\n",
    "    train_y = []\n",
    "    en =1\n",
    "    for j in range(0,len(lst)):\n",
    "        for i in range(0,len(lst[j])):\n",
    "            train_y.append(en)\n",
    "        en*=10\n",
    "    return train_y\n",
    "train_y= ohe_ml( Mild_test,VMild_test,Mod_test,Non_test)\n",
    "    "
   ]
  },
  {
   "cell_type": "code",
   "execution_count": 11,
   "id": "7fa5476a-94df-47bc-90a0-aee057208c9e",
   "metadata": {},
   "outputs": [
    {
     "name": "stdout",
     "output_type": "stream",
     "text": [
      "5121 5121\n",
      "(36608,)\n",
      "[0 0 0 ... 0 0 0] 10\n"
     ]
    }
   ],
   "source": [
    "print(len(train_x),len(train_y))\n",
    "print(train_x[0].shape)\n",
    "loc = 732\n",
    "print(train_x[loc],train_y[loc])"
   ]
  },
  {
   "cell_type": "code",
   "execution_count": 12,
   "id": "e4bcb33d-7f04-41ec-94a0-ddfd64fa28a0",
   "metadata": {},
   "outputs": [],
   "source": [
    "models = list()\n",
    "\n",
    "decision_tree = Pipeline([('m', DecisionTreeClassifier())])\n",
    "models.append(('decision', decision_tree))\n",
    "\n",
    "randomforest = Pipeline([('m', RandomForestClassifier())])\n",
    "models.append(('randomforest', randomforest))\n",
    "\n",
    "svc = Pipeline([('m', SVC())])\n",
    "models.append(('svc', svc))\n",
    "# define the voting ensemble\n",
    "ensemble = VotingClassifier(estimators=models, voting='hard',n_jobs=-1)"
   ]
  },
  {
   "cell_type": "code",
   "execution_count": 11,
   "id": "69ad183e-b68a-4ec1-92b6-01f53a84c745",
   "metadata": {},
   "outputs": [
    {
     "data": {
      "text/plain": [
       "[('decision', Pipeline(steps=[('m', DecisionTreeClassifier())])),\n",
       " ('randomforest', Pipeline(steps=[('m', RandomForestClassifier())])),\n",
       " ('svc', Pipeline(steps=[('m', SVC())]))]"
      ]
     },
     "execution_count": 11,
     "metadata": {},
     "output_type": "execute_result"
    }
   ],
   "source": [
    "models"
   ]
  },
  {
   "cell_type": "code",
   "execution_count": 12,
   "id": "044a64da-ea1c-47a0-902d-b4272dcd67a7",
   "metadata": {
    "tags": []
   },
   "outputs": [
    {
     "data": {
      "text/html": [
       "<style>#sk-container-id-1 {color: black;background-color: white;}#sk-container-id-1 pre{padding: 0;}#sk-container-id-1 div.sk-toggleable {background-color: white;}#sk-container-id-1 label.sk-toggleable__label {cursor: pointer;display: block;width: 100%;margin-bottom: 0;padding: 0.3em;box-sizing: border-box;text-align: center;}#sk-container-id-1 label.sk-toggleable__label-arrow:before {content: \"▸\";float: left;margin-right: 0.25em;color: #696969;}#sk-container-id-1 label.sk-toggleable__label-arrow:hover:before {color: black;}#sk-container-id-1 div.sk-estimator:hover label.sk-toggleable__label-arrow:before {color: black;}#sk-container-id-1 div.sk-toggleable__content {max-height: 0;max-width: 0;overflow: hidden;text-align: left;background-color: #f0f8ff;}#sk-container-id-1 div.sk-toggleable__content pre {margin: 0.2em;color: black;border-radius: 0.25em;background-color: #f0f8ff;}#sk-container-id-1 input.sk-toggleable__control:checked~div.sk-toggleable__content {max-height: 200px;max-width: 100%;overflow: auto;}#sk-container-id-1 input.sk-toggleable__control:checked~label.sk-toggleable__label-arrow:before {content: \"▾\";}#sk-container-id-1 div.sk-estimator input.sk-toggleable__control:checked~label.sk-toggleable__label {background-color: #d4ebff;}#sk-container-id-1 div.sk-label input.sk-toggleable__control:checked~label.sk-toggleable__label {background-color: #d4ebff;}#sk-container-id-1 input.sk-hidden--visually {border: 0;clip: rect(1px 1px 1px 1px);clip: rect(1px, 1px, 1px, 1px);height: 1px;margin: -1px;overflow: hidden;padding: 0;position: absolute;width: 1px;}#sk-container-id-1 div.sk-estimator {font-family: monospace;background-color: #f0f8ff;border: 1px dotted black;border-radius: 0.25em;box-sizing: border-box;margin-bottom: 0.5em;}#sk-container-id-1 div.sk-estimator:hover {background-color: #d4ebff;}#sk-container-id-1 div.sk-parallel-item::after {content: \"\";width: 100%;border-bottom: 1px solid gray;flex-grow: 1;}#sk-container-id-1 div.sk-label:hover label.sk-toggleable__label {background-color: #d4ebff;}#sk-container-id-1 div.sk-serial::before {content: \"\";position: absolute;border-left: 1px solid gray;box-sizing: border-box;top: 0;bottom: 0;left: 50%;z-index: 0;}#sk-container-id-1 div.sk-serial {display: flex;flex-direction: column;align-items: center;background-color: white;padding-right: 0.2em;padding-left: 0.2em;position: relative;}#sk-container-id-1 div.sk-item {position: relative;z-index: 1;}#sk-container-id-1 div.sk-parallel {display: flex;align-items: stretch;justify-content: center;background-color: white;position: relative;}#sk-container-id-1 div.sk-item::before, #sk-container-id-1 div.sk-parallel-item::before {content: \"\";position: absolute;border-left: 1px solid gray;box-sizing: border-box;top: 0;bottom: 0;left: 50%;z-index: -1;}#sk-container-id-1 div.sk-parallel-item {display: flex;flex-direction: column;z-index: 1;position: relative;background-color: white;}#sk-container-id-1 div.sk-parallel-item:first-child::after {align-self: flex-end;width: 50%;}#sk-container-id-1 div.sk-parallel-item:last-child::after {align-self: flex-start;width: 50%;}#sk-container-id-1 div.sk-parallel-item:only-child::after {width: 0;}#sk-container-id-1 div.sk-dashed-wrapped {border: 1px dashed gray;margin: 0 0.4em 0.5em 0.4em;box-sizing: border-box;padding-bottom: 0.4em;background-color: white;}#sk-container-id-1 div.sk-label label {font-family: monospace;font-weight: bold;display: inline-block;line-height: 1.2em;}#sk-container-id-1 div.sk-label-container {text-align: center;}#sk-container-id-1 div.sk-container {/* jupyter's `normalize.less` sets `[hidden] { display: none; }` but bootstrap.min.css set `[hidden] { display: none !important; }` so we also need the `!important` here to be able to override the default hidden behavior on the sphinx rendered scikit-learn.org. See: https://github.com/scikit-learn/scikit-learn/issues/21755 */display: inline-block !important;position: relative;}#sk-container-id-1 div.sk-text-repr-fallback {display: none;}</style><div id=\"sk-container-id-1\" class=\"sk-top-container\"><div class=\"sk-text-repr-fallback\"><pre>VotingClassifier(estimators=[(&#x27;decision&#x27;,\n",
       "                              Pipeline(steps=[(&#x27;m&#x27;,\n",
       "                                               DecisionTreeClassifier())])),\n",
       "                             (&#x27;randomforest&#x27;,\n",
       "                              Pipeline(steps=[(&#x27;m&#x27;,\n",
       "                                               RandomForestClassifier())])),\n",
       "                             (&#x27;svc&#x27;, Pipeline(steps=[(&#x27;m&#x27;, SVC())]))],\n",
       "                 n_jobs=-1)</pre><b>In a Jupyter environment, please rerun this cell to show the HTML representation or trust the notebook. <br />On GitHub, the HTML representation is unable to render, please try loading this page with nbviewer.org.</b></div><div class=\"sk-container\" hidden><div class=\"sk-item sk-dashed-wrapped\"><div class=\"sk-label-container\"><div class=\"sk-label sk-toggleable\"><input class=\"sk-toggleable__control sk-hidden--visually\" id=\"sk-estimator-id-1\" type=\"checkbox\" ><label for=\"sk-estimator-id-1\" class=\"sk-toggleable__label sk-toggleable__label-arrow\">VotingClassifier</label><div class=\"sk-toggleable__content\"><pre>VotingClassifier(estimators=[(&#x27;decision&#x27;,\n",
       "                              Pipeline(steps=[(&#x27;m&#x27;,\n",
       "                                               DecisionTreeClassifier())])),\n",
       "                             (&#x27;randomforest&#x27;,\n",
       "                              Pipeline(steps=[(&#x27;m&#x27;,\n",
       "                                               RandomForestClassifier())])),\n",
       "                             (&#x27;svc&#x27;, Pipeline(steps=[(&#x27;m&#x27;, SVC())]))],\n",
       "                 n_jobs=-1)</pre></div></div></div><div class=\"sk-parallel\"><div class=\"sk-parallel-item\"><div class=\"sk-item\"><div class=\"sk-label-container\"><div class=\"sk-label sk-toggleable\"><label>decision</label></div></div><div class=\"sk-serial\"><div class=\"sk-item\"><div class=\"sk-serial\"><div class=\"sk-item\"><div class=\"sk-estimator sk-toggleable\"><input class=\"sk-toggleable__control sk-hidden--visually\" id=\"sk-estimator-id-2\" type=\"checkbox\" ><label for=\"sk-estimator-id-2\" class=\"sk-toggleable__label sk-toggleable__label-arrow\">DecisionTreeClassifier</label><div class=\"sk-toggleable__content\"><pre>DecisionTreeClassifier()</pre></div></div></div></div></div></div></div></div><div class=\"sk-parallel-item\"><div class=\"sk-item\"><div class=\"sk-label-container\"><div class=\"sk-label sk-toggleable\"><label>randomforest</label></div></div><div class=\"sk-serial\"><div class=\"sk-item\"><div class=\"sk-serial\"><div class=\"sk-item\"><div class=\"sk-estimator sk-toggleable\"><input class=\"sk-toggleable__control sk-hidden--visually\" id=\"sk-estimator-id-3\" type=\"checkbox\" ><label for=\"sk-estimator-id-3\" class=\"sk-toggleable__label sk-toggleable__label-arrow\">RandomForestClassifier</label><div class=\"sk-toggleable__content\"><pre>RandomForestClassifier()</pre></div></div></div></div></div></div></div></div><div class=\"sk-parallel-item\"><div class=\"sk-item\"><div class=\"sk-label-container\"><div class=\"sk-label sk-toggleable\"><label>svc</label></div></div><div class=\"sk-serial\"><div class=\"sk-item\"><div class=\"sk-serial\"><div class=\"sk-item\"><div class=\"sk-estimator sk-toggleable\"><input class=\"sk-toggleable__control sk-hidden--visually\" id=\"sk-estimator-id-4\" type=\"checkbox\" ><label for=\"sk-estimator-id-4\" class=\"sk-toggleable__label sk-toggleable__label-arrow\">SVC</label><div class=\"sk-toggleable__content\"><pre>SVC()</pre></div></div></div></div></div></div></div></div></div></div></div></div>"
      ],
      "text/plain": [
       "VotingClassifier(estimators=[('decision',\n",
       "                              Pipeline(steps=[('m',\n",
       "                                               DecisionTreeClassifier())])),\n",
       "                             ('randomforest',\n",
       "                              Pipeline(steps=[('m',\n",
       "                                               RandomForestClassifier())])),\n",
       "                             ('svc', Pipeline(steps=[('m', SVC())]))],\n",
       "                 n_jobs=-1)"
      ]
     },
     "execution_count": 12,
     "metadata": {},
     "output_type": "execute_result"
    }
   ],
   "source": [
    "ensemble"
   ]
  },
  {
   "cell_type": "code",
   "execution_count": 13,
   "id": "6e4bbf03-6275-42cb-ae86-4fcff0c9f640",
   "metadata": {
    "tags": []
   },
   "outputs": [],
   "source": [
    "cv = RepeatedStratifiedKFold(n_splits=10, n_repeats=3)\n",
    "n_scores = cross_val_score(ensemble, train_x, train_y, scoring='accuracy', cv=cv, n_jobs=6)"
   ]
  },
  {
   "cell_type": "code",
   "execution_count": 14,
   "id": "aed7fca1-7002-4346-be9c-3b458a563cd4",
   "metadata": {},
   "outputs": [],
   "source": [
    "#n_scores.mean()\n"
   ]
  },
  {
   "cell_type": "code",
   "execution_count": 15,
   "id": "635d32ab-6e13-44f5-8270-6a3a559d9dcd",
   "metadata": {},
   "outputs": [],
   "source": [
    "e = ensemble.fit(train_x,train_y)"
   ]
  },
  {
   "cell_type": "code",
   "execution_count": 16,
   "id": "e5ac246f-8495-4e12-99a4-c90bfb04acc0",
   "metadata": {},
   "outputs": [
    {
     "name": "stdout",
     "output_type": "stream",
     "text": [
      "Current working directory  E:\\Dataset\\Alzheimer_s Dataset\n",
      "Directory changed successfully  C:\\Users\\iamne\\JupyterNotebookServer\\dev\\ProjAlzhiemer\n"
     ]
    }
   ],
   "source": [
    "save_mod(e,\"test_tf_df\")"
   ]
  },
  {
   "cell_type": "code",
   "execution_count": null,
   "id": "46030a4d-314e-4f5c-981d-1a246c3c5f9c",
   "metadata": {},
   "outputs": [],
   "source": [
    "\n"
   ]
  },
  {
   "cell_type": "code",
   "execution_count": null,
   "id": "dc723d64-a321-47c4-b875-2966251d1b05",
   "metadata": {},
   "outputs": [],
   "source": []
  },
  {
   "cell_type": "code",
   "execution_count": null,
   "id": "0340cb58-4c2d-44f1-90ee-ce1e6658d2a7",
   "metadata": {},
   "outputs": [],
   "source": []
  }
 ],
 "metadata": {
  "kernelspec": {
   "display_name": "Python 3 (ipykernel)",
   "language": "python",
   "name": "python3"
  },
  "language_info": {
   "codemirror_mode": {
    "name": "ipython",
    "version": 3
   },
   "file_extension": ".py",
   "mimetype": "text/x-python",
   "name": "python",
   "nbconvert_exporter": "python",
   "pygments_lexer": "ipython3",
   "version": "3.8.4"
  },
  "toc-autonumbering": false,
  "toc-showmarkdowntxt": false
 },
 "nbformat": 4,
 "nbformat_minor": 5
}
