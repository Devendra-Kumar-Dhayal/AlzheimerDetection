{
 "cells": [
  {
   "cell_type": "code",
   "execution_count": null,
   "id": "59f5954c-8241-45d5-b5a1-e7871433c808",
   "metadata": {},
   "outputs": [],
   "source": [
    "import os\n",
    "import numpy as np\n",
    "import cv2  \n",
    "import glob \n",
    "from matplotlib import pyplot as plt\n",
    "import joblib"
   ]
  },
  {
   "cell_type": "code",
   "execution_count": null,
   "id": "b71e3c44-fbaf-4330-82c1-64937472f17e",
   "metadata": {},
   "outputs": [],
   "source": [
    "#Changing Current Working Directory;\n",
    "path = r\"E:\\Dataset\\Alzheimer_s Dataset\"\n",
    "def change_dir(path):\n",
    "    retval = os.getcwd()    # Check current working directory.\n",
    "    print(\"Current working directory \", retval) \n",
    "    os.chdir( path )   # Now change the directory.\n",
    "    retval = os.getcwd() # Check current working directory.\n",
    "    print (\"Directory changed successfully \",retval) \n",
    "change_dir(path)"
   ]
  },
  {
   "cell_type": "code",
   "execution_count": null,
   "id": "d278d25d-27c0-4113-84fa-50d071c4c35e",
   "metadata": {},
   "outputs": [],
   "source": [
    "#saving model \n",
    "def save_mod(model,Model_name):\n",
    "    change_dir(r\"C:\\Users\\iamne\\JupyterNotebookServer\\dev\\ProjAlzhiemer\")\n",
    "    Model_name+='.sav'\n",
    "    joblib.dump(model,Model_name)"
   ]
  },
  {
   "cell_type": "code",
   "execution_count": null,
   "id": "1ae36a16-ec29-4604-9611-3fe3bbd97910",
   "metadata": {},
   "outputs": [],
   "source": [
    "# reading images from directory\n",
    "\n",
    "def load_image(path):\n",
    "    lst=[]\n",
    "    for image_path in glob.glob(path):\n",
    "        img = cv2.imread(image_path,0)\n",
    "        img = img.reshape(1,36608)\n",
    "        lst.append(img[0])\n",
    "    return lst\n",
    "    \n",
    "temp = path + r\"\\train\\MildDemented\\*.jpg\"\n",
    "Mild_test = load_image(temp)\n",
    "print(\"Mild = \",len(Mild_test))\n",
    "temp = path + r\"\\train\\ModerateDemented\\*.jpg\"\n",
    "Mod_test = load_image(temp)\n",
    "print(\"Mod = \",len(Mod_test))\n",
    "temp = path + r\"\\train\\NonDemented\\*.jpg\"\n",
    "Non_test = load_image(temp)\n",
    "print(\"Non = \",len(Non_test))\n",
    "temp = path + r\"\\train\\VeryMildDemented\\*.jpg\"\n",
    "VMild_test = load_image(temp)\n",
    "print(\"VMild = \",len(VMild_test))"
   ]
  },
  {
   "cell_type": "code",
   "execution_count": null,
   "id": "f69ce3cd-6051-4c20-b03b-4a918fcd4c0d",
   "metadata": {},
   "outputs": [],
   "source": [
    "from sklearn.tree import DecisionTreeClassifier\n",
    "from sklearn.ensemble import RandomForestClassifier\n",
    "from sklearn.svm import SVC\n",
    "from sklearn.model_selection import cross_val_score\n",
    "from sklearn.model_selection import RepeatedStratifiedKFold\n",
    "from sklearn.ensemble import VotingClassifier\n",
    "from sklearn.pipeline import Pipeline\n",
    "from sklearn.ensemble import ExtraTreesClassifier\n",
    "from sklearn.ensemble import StackingClassifier\n",
    "from sklearn.linear_model import LogisticRegression"
   ]
  },
  {
   "cell_type": "code",
   "execution_count": null,
   "id": "09080ba5-658d-4f0a-8ea2-4a242a444765",
   "metadata": {},
   "outputs": [],
   "source": [
    "train_x = Mild_test+VMild_test+Mod_test+Non_test\n",
    "train_y = []\n",
    "\n",
    "def ohe_ml(*lst):\n",
    "    train_y = []\n",
    "    en =1\n",
    "    for j in range(0,len(lst)):\n",
    "        for i in range(0,len(lst[j])):\n",
    "            train_y.append(en)\n",
    "        en*=10\n",
    "    return train_y\n",
    "train_y= ohe_ml( Mild_test,VMild_test,Mod_test,Non_test)"
   ]
  },
  {
   "cell_type": "code",
   "execution_count": null,
   "id": "1969df1b-2805-4147-99c6-0aafbee6c26e",
   "metadata": {},
   "outputs": [],
   "source": [
    "print(len(train_x),len(train_y))\n",
    "print(train_x[0].shape)\n",
    "loc = 732\n",
    "print(train_x[loc],train_y[loc])"
   ]
  },
  {
   "cell_type": "code",
   "execution_count": null,
   "id": "6e879cfc-8785-4ffa-81e5-f5f76bb2f8d9",
   "metadata": {},
   "outputs": [],
   "source": [
    "models = list()\n",
    "\n",
    "decision_tree = Pipeline([('m', DecisionTreeClassifier())])\n",
    "models.append(('decision', decision_tree))\n",
    "\n",
    "randomforest = Pipeline([('m', RandomForestClassifier())])\n",
    "models.append(('randomforest', randomforest))\n",
    "\n",
    "svc = Pipeline([('m', SVC())])\n",
    "models.append(('svc', svc))\n",
    "# define the voting ensemble\n",
    "lr = LogisticRegression()\n",
    "stack_model = StackingClassifier( estimators = models,final_estimator = lr)"
   ]
  },
  {
   "cell_type": "code",
   "execution_count": null,
   "id": "3fe8b4be-d155-4a20-b16c-b2e8256727b3",
   "metadata": {},
   "outputs": [],
   "source": [
    "stack_model"
   ]
  },
  {
   "cell_type": "code",
   "execution_count": null,
   "id": "aeea7873-5b54-402e-bfa3-f5c2501f5583",
   "metadata": {},
   "outputs": [],
   "source": [
    "models"
   ]
  },
  {
   "cell_type": "code",
   "execution_count": null,
   "id": "7e2d19df-3d36-4666-b2a1-cc5b4725019d",
   "metadata": {},
   "outputs": [],
   "source": [
    "ens = stack_model.fit(train_x,train_y)"
   ]
  },
  {
   "cell_type": "code",
   "execution_count": null,
   "id": "39475d7f-78f4-450b-bbc7-563229744407",
   "metadata": {},
   "outputs": [],
   "source": [
    "ser=ens.score(train_x,train_y)\n",
    "print(ser)"
   ]
  },
  {
   "cell_type": "code",
   "execution_count": null,
   "id": "6c39fa3c-ca63-48c7-a085-7ffcf30421c6",
   "metadata": {},
   "outputs": [],
   "source": [
    "save_mod(e,\"test_tf_df\")"
   ]
  }
 ],
 "metadata": {
  "kernelspec": {
   "display_name": "Python 3 (ipykernel)",
   "language": "python",
   "name": "python3"
  },
  "language_info": {
   "codemirror_mode": {
    "name": "ipython",
    "version": 3
   },
   "file_extension": ".py",
   "mimetype": "text/x-python",
   "name": "python",
   "nbconvert_exporter": "python",
   "pygments_lexer": "ipython3",
   "version": "3.8.4"
  }
 },
 "nbformat": 4,
 "nbformat_minor": 5
}
