{
 "cells": [
  {
   "cell_type": "code",
   "execution_count": 1,
   "id": "571ea59b-3248-484e-a292-9e904547bb0f",
   "metadata": {},
   "outputs": [
    {
     "name": "stdout",
     "output_type": "stream",
     "text": [
      "Num GPUs Available:  1\n"
     ]
    }
   ],
   "source": [
    "import numpy as np\n",
    "import cv2  \n",
    "import glob \n",
    "from matplotlib import pyplot as plt\n",
    "import joblib\n",
    "from tensorflow.keras.applications.resnet50 import ResNet50\n",
    "import os, re, time, json\n",
    "import PIL.Image, PIL.ImageFont, PIL.ImageDraw\n",
    "import tensorflow as tf\n",
    "print(\"Num GPUs Available: \", len(tf.config.list_physical_devices('GPU')))"
   ]
  },
  {
   "cell_type": "code",
   "execution_count": 2,
   "id": "ec8494f0-17fd-458a-bcef-5c2c73217560",
   "metadata": {},
   "outputs": [
    {
     "name": "stdout",
     "output_type": "stream",
     "text": [
      "Current working directory  C:\\Users\\iamne\\JupyterNotebookServer\\dev\\ProjAlzhiemer\n",
      "Directory changed successfully  E:\\Dataset\\Alzheimer_s Dataset\n"
     ]
    }
   ],
   "source": [
    "#Changing Current Working Directory;\n",
    "path = r\"E:\\Dataset\\Alzheimer_s Dataset\"\n",
    "def change_dir(path):\n",
    "    retval = os.getcwd()    # Check current working directory.\n",
    "    print(\"Current working directory \", retval) \n",
    "    os.chdir( path )   # Now change the directory.\n",
    "    retval = os.getcwd() # Check current working directory.\n",
    "    print (\"Directory changed successfully \",retval) \n",
    "change_dir(path)"
   ]
  },
  {
   "cell_type": "code",
   "execution_count": 3,
   "id": "dadb4c18-95a8-4f2d-8794-ab7b1ae018bf",
   "metadata": {},
   "outputs": [
    {
     "name": "stdout",
     "output_type": "stream",
     "text": [
      "Mild =  717\n",
      "Mod =  52\n",
      "Non =  2560\n",
      "VMild =  1792\n",
      "tMild =  179\n",
      "tMod =  12\n",
      "tNon =  640\n",
      "tVMild =  448\n"
     ]
    }
   ],
   "source": [
    "def load_image(path):\n",
    "    lst=[]\n",
    "    for image_path in glob.glob(path):\n",
    "        img = cv2.imread(image_path)\n",
    "        #img = img.reshape(1,36608)\n",
    "        lst.append(img)\n",
    "    \n",
    "    return lst\n",
    "\n",
    "\n",
    "temp = path + r\"\\train\\MildDemented\\*.jpg\"\n",
    "\n",
    "Mild_train = load_image(temp)\n",
    "print(\"Mild = \",len(Mild_train))\n",
    "temp = path + r\"\\train\\ModerateDemented\\*.jpg\"\n",
    "Mod_train = load_image(temp)\n",
    "print(\"Mod = \",len(Mod_train))\n",
    "temp = path + r\"\\train\\NonDemented\\*.jpg\"\n",
    "Non_train = load_image(temp)\n",
    "print(\"Non = \",len(Non_train))\n",
    "temp = path + r\"\\train\\VeryMildDemented\\*.jpg\"\n",
    "VMild_train = load_image(temp)\n",
    "print(\"VMild = \",len(VMild_train))\n",
    "\n",
    "\n",
    "temp = path + r\"\\test\\MildDemented\\*.jpg\"\n",
    "                \n",
    "Mild_test = load_image(temp)\n",
    "print(\"tMild = \",len(Mild_test))\n",
    "temp = path + r\"\\test\\ModerateDemented\\*.jpg\"\n",
    "Mod_test = load_image(temp)\n",
    "print(\"tMod = \",len(Mod_test))\n",
    "temp = path + r\"\\test\\NonDemented\\*.jpg\"\n",
    "Non_test = load_image(temp)\n",
    "print(\"tNon = \",len(Non_test))\n",
    "temp = path + r\"\\test\\VeryMildDemented\\*.jpg\"\n",
    "VMild_test = load_image(temp)\n",
    "print(\"tVMild = \",len(VMild_test))"
   ]
  },
  {
   "cell_type": "code",
   "execution_count": 4,
   "id": "f652b7e9-8b6e-4423-92a7-f165d7587063",
   "metadata": {},
   "outputs": [],
   "source": [
    "test_x = Mild_test+VMild_test+Mod_test+Non_test\n",
    "test_x = np.array(test_x)\n",
    "test_y = []\n",
    "train_x = Mild_train+VMild_train+Mod_train+Non_train\n",
    "train_x = np.array(train_x)\n",
    "train_y = []\n",
    "\n",
    "def ohe_ml(*lst):\n",
    "    train_y = []\n",
    "    en =1\n",
    "    for j in range(0,len(lst)):\n",
    "        for i in range(0,len(lst[j])):\n",
    "            train_y.append(en)\n",
    "        en*=10\n",
    "    return train_y\n",
    "train_y= ohe_ml( Mild_train,VMild_train,Mod_train,Non_train)\n",
    "train_y = tf.one_hot(train_y,4)\n",
    "test_y= ohe_ml( Mild_test,VMild_test,Mod_test,Non_test)\n",
    "test_y = tf.one_hot(test_y,4)\n"
   ]
  },
  {
   "cell_type": "code",
   "execution_count": 5,
   "id": "f3ba6b95-47ea-4c94-8298-9e68139cac5a",
   "metadata": {},
   "outputs": [],
   "source": [
    "def feature_extractor(inputs):\n",
    "\n",
    "  feature_extractor = tf.keras.applications.resnet.ResNet50(input_shape=(208, 176, 3),\n",
    "                                               include_top=False,\n",
    "                                               weights='imagenet')(inputs)\n",
    "  return feature_extractor"
   ]
  },
  {
   "cell_type": "code",
   "execution_count": 6,
   "id": "75bb5274-d212-4958-a95d-14a5ee873bd9",
   "metadata": {},
   "outputs": [
    {
     "data": {
      "text/plain": [
       "(208, 176, 3)"
      ]
     },
     "execution_count": 6,
     "metadata": {},
     "output_type": "execute_result"
    }
   ],
   "source": [
    "Mild_test[0].shape\n"
   ]
  },
  {
   "cell_type": "code",
   "execution_count": 7,
   "id": "1548cb68-49e8-4956-b614-fb8adb7d9d68",
   "metadata": {},
   "outputs": [],
   "source": [
    "def classifier(inputs):\n",
    "    \n",
    "   # x = tf.keras.layers.Conv2D(filters= 128 , activation='relu', kernel_size = (3,3),input_shape=(208, 176, 3))(inputs)\n",
    "   # x = tf.keras.layers.GlobalAveragePooling2D()(inputs)\n",
    "    x = tf.keras.layers.Flatten()(inputs)\n",
    "    x = tf.keras.layers.Dense(1024, activation=\"relu\")(x)\n",
    "    x = tf.keras.layers.Dense(512, activation=\"relu\")(x)\n",
    "    x = tf.keras.layers.Dense(4, activation=\"softmax\", name=\"classification\")(x)\n",
    "    return x"
   ]
  },
  {
   "cell_type": "code",
   "execution_count": 8,
   "id": "6d741499-ecc9-4819-896b-90b5305d5031",
   "metadata": {},
   "outputs": [],
   "source": [
    "def final_model(inputs):\n",
    "    \n",
    "    resnet_feature_extractor = feature_extractor(inputs)\n",
    "    classification_output = classifier(resnet_feature_extractor)\n",
    "\n",
    "    return classification_output"
   ]
  },
  {
   "cell_type": "code",
   "execution_count": null,
   "id": "2190a5b4-5c11-493a-a626-69582c25b23f",
   "metadata": {},
   "outputs": [],
   "source": [
    "def define_compile_model():\n",
    "  inputs = tf.keras.layers.Input(shape=(208,176,3))\n",
    "  \n",
    "  classification_output = final_model(inputs) \n",
    "  model = tf.keras.Model(inputs=inputs, outputs = classification_output)\n",
    "  sg =  tf.keras.optimizers.experimental.SGD(learning_rate=0.001,momentum =0.9)\n",
    "  model.compile(optimizer=sg, \n",
    "                #loss='categorical_crossentropy',\n",
    "                loss='sparse_categorical_crossentropy',\n",
    "                metrics = ['accuracy'])\n",
    "  \n",
    "  return model"
   ]
  },
  {
   "cell_type": "code",
   "execution_count": null,
   "id": "c2d5a322-88fc-4354-b0e4-8de40b64565d",
   "metadata": {},
   "outputs": [],
   "source": [
    "model = define_compile_model()\n",
    "\n",
    "model.summary()"
   ]
  },
  {
   "cell_type": "code",
   "execution_count": null,
   "id": "20c51095-375b-411d-8350-c01666487e87",
   "metadata": {},
   "outputs": [],
   "source": [
    "EPOCHS =1\n",
    "history = model.fit(train_x, train_y, epochs=EPOCHS,validation_data = (test_x, test_y), batch_size=16)"
   ]
  },
  {
   "cell_type": "code",
   "execution_count": null,
   "id": "8ddb6726-fa2b-41f2-9a91-16a398b0efa3",
   "metadata": {},
   "outputs": [],
   "source": []
  },
  {
   "cell_type": "code",
   "execution_count": null,
   "id": "5fc9b12e-7a7f-43bb-9d7a-d4b022757ecd",
   "metadata": {},
   "outputs": [],
   "source": []
  }
 ],
 "metadata": {
  "kernelspec": {
   "display_name": "Python 3 (ipykernel)",
   "language": "python",
   "name": "python3"
  },
  "language_info": {
   "codemirror_mode": {
    "name": "ipython",
    "version": 3
   },
   "file_extension": ".py",
   "mimetype": "text/x-python",
   "name": "python",
   "nbconvert_exporter": "python",
   "pygments_lexer": "ipython3",
   "version": "3.8.4"
  }
 },
 "nbformat": 4,
 "nbformat_minor": 5
}
