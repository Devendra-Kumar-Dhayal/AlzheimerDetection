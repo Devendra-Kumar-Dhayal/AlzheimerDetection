{
 "cells": [
  {
   "cell_type": "code",
   "execution_count": 1,
   "id": "3bb6d778-26c0-473c-b653-295d1dc69bf1",
   "metadata": {},
   "outputs": [],
   "source": [
    "import os\n",
    "import numpy as np\n",
    "import cv2  \n",
    "import glob \n",
    "from matplotlib import pyplot as plt\n",
    "import joblib"
   ]
  },
  {
   "cell_type": "code",
   "execution_count": 2,
   "id": "a70bfd91-6725-4211-9940-2c9e8700e03a",
   "metadata": {},
   "outputs": [
    {
     "name": "stdout",
     "output_type": "stream",
     "text": [
      "Current working directory  C:\\Users\\iamne\\JupyterNotebookServer\\dev\\ProjAlzhiemer\n",
      "Directory changed successfully  E:\\Dataset\\Alzheimer_s Dataset\n"
     ]
    }
   ],
   "source": [
    "#Changing Current Working Directory;\n",
    "path = r\"E:\\Dataset\\Alzheimer_s Dataset\"\n",
    "def change_dir(path):\n",
    "    retval = os.getcwd()    # Check current working directory.\n",
    "    print(\"Current working directory \", retval) \n",
    "    os.chdir( path )   # Now change the directory.\n",
    "    retval = os.getcwd() # Check current working directory.\n",
    "    print (\"Directory changed successfully \",retval) \n",
    "change_dir(path)"
   ]
  },
  {
   "cell_type": "code",
   "execution_count": 3,
   "id": "836980ef-0fd8-475c-85cf-f80f85905d36",
   "metadata": {},
   "outputs": [],
   "source": [
    "#saving model \n",
    "def save_mod(model,Model_name):\n",
    "    change_dir(r\"C:\\Users\\iamne\\JupyterNotebookServer\\dev\\ProjAlzhiemer\")\n",
    "    Model_name+='.sav'\n",
    "    joblib.dump(model,Model_name)"
   ]
  },
  {
   "cell_type": "code",
   "execution_count": 4,
   "id": "1d3437e2-988d-4396-830e-f66467e96e95",
   "metadata": {},
   "outputs": [
    {
     "name": "stdout",
     "output_type": "stream",
     "text": [
      "Mild =  717\n",
      "Mod =  52\n",
      "Non =  2560\n",
      "VMild =  1792\n"
     ]
    }
   ],
   "source": [
    "# reading images from directory\n",
    "\n",
    "def load_image(path):\n",
    "    lst=[]\n",
    "    for image_path in glob.glob(path):\n",
    "        img = cv2.imread(image_path,0)\n",
    "        img = img.reshape(1,36608)\n",
    "        lst.append(img[0])\n",
    "    return lst\n",
    "    \n",
    "temp = path + r\"\\train\\MildDemented\\*.jpg\"\n",
    "Mild_train = load_image(temp)\n",
    "print(\"Mild = \",len(Mild_train))\n",
    "temp = path + r\"\\train\\ModerateDemented\\*.jpg\"\n",
    "Mod_train = load_image(temp)\n",
    "print(\"Mod = \",len(Mod_train))\n",
    "temp = path + r\"\\train\\NonDemented\\*.jpg\"\n",
    "Non_train = load_image(temp)\n",
    "print(\"Non = \",len(Non_train))\n",
    "temp = path + r\"\\train\\VeryMildDemented\\*.jpg\"\n",
    "VMild_train = load_image(temp)\n",
    "print(\"VMild = \",len(VMild_train))"
   ]
  },
  {
   "cell_type": "code",
   "execution_count": null,
   "id": "ec7da613-e09a-4dba-a858-f09e61734368",
   "metadata": {},
   "outputs": [],
   "source": [
    "\n",
    "    \n",
    "temp = path + r\"\\test\\MildDemented\\*.jpg\"\n",
    "Mild_test = load_image(temp)\n",
    "print(\"Mild = \",len(Mild_test))\n",
    "temp = path + r\"\\test\\ModerateDemented\\*.jpg\"\n",
    "Mod_test = load_image(temp)\n",
    "print(\"Mod = \",len(Mod_test))\n",
    "temp = path + r\"\\test\\NonDemented\\*.jpg\"\n",
    "Non_test = load_image(temp)\n",
    "print(\"Non = \",len(Non_test))\n",
    "temp = path + r\"\\test\\VeryMildDemented\\*.jpg\"\n",
    "VMild_test = load_image(temp)\n",
    "print(\"VMild = \",len(VMild_test))"
   ]
  },
  {
   "cell_type": "code",
   "execution_count": 9,
   "id": "5cddab96-cea2-4e3c-b7ff-07b9ca588a46",
   "metadata": {},
   "outputs": [],
   "source": [
    "from sklearn.tree import DecisionTreeClassifier\n",
    "from sklearn.ensemble import RandomForestClassifier\n",
    "from sklearn.svm import SVC\n",
    "from sklearn.model_selection import cross_val_score\n",
    "from sklearn.model_selection import RepeatedStratifiedKFold\n",
    "from sklearn.ensemble import VotingClassifier\n",
    "from sklearn.pipeline import Pipeline\n",
    "from sklearn.ensemble import ExtraTreesClassifier\n",
    "from sklearn.ensemble import StackingClassifier\n",
    "from sklearn.neighbors import KNeighborsClassifier\n",
    "from sklearn.naive_bayes import GaussianNB\n",
    "from sklearn.linear_model import LogisticRegression"
   ]
  },
  {
   "cell_type": "code",
   "execution_count": 10,
   "id": "1a86b267-9944-4bc3-8569-d20aefe685d9",
   "metadata": {},
   "outputs": [],
   "source": [
    "train_x = Mild_train+VMild_train+Mod_train+Non_train\n",
    "train_y = []\n",
    "\n",
    "def ohe_ml(*lst):\n",
    "    train_y = []\n",
    "    en =1\n",
    "    for j in range(0,len(lst)):\n",
    "        for i in range(0,len(lst[j])):\n",
    "            train_y.append(en)\n",
    "        en*=10\n",
    "    return train_y\n",
    "train_y= ohe_ml( Mild_train,VMild_train,Mod_train,Non_train)"
   ]
  },
  {
   "cell_type": "code",
   "execution_count": null,
   "id": "1991ae76-1e10-422e-9b04-d06c84559720",
   "metadata": {},
   "outputs": [],
   "source": [
    "test_x = Mild_test+VMild_test+Mod_test+Non_test\n",
    "test_y = []\n",
    "\n",
    "def ohe_ml(*lst):\n",
    "    train_y = []\n",
    "    en =1\n",
    "    for j in range(0,len(lst)):\n",
    "        for i in range(0,len(lst[j])):\n",
    "            train_y.append(en)\n",
    "        en*=10\n",
    "    return train_y\n",
    "test_y= ohe_ml( Mild_test,VMild_test,Mod_test,Non_test)"
   ]
  },
  {
   "cell_type": "code",
   "execution_count": 11,
   "id": "bec6c8bf-29fb-4fdc-9e3a-7d1f530cb250",
   "metadata": {},
   "outputs": [
    {
     "name": "stdout",
     "output_type": "stream",
     "text": [
      "5121 5121\n",
      "(36608,)\n",
      "[0 0 0 ... 0 0 0] 10\n"
     ]
    }
   ],
   "source": [
    "print(\"train\\n\")\n",
    "print(len(train_x),len(train_y))\n",
    "print(train_x[0].shape)\n",
    "loc = 732\n",
    "print(train_x[loc],train_y[loc])\n",
    "#--------------------------------------\n",
    "print(\"test\\n\")\n",
    "print(len(test_x),len(test_y))\n",
    "print(test_x[0].shape)\n",
    "loc = 340\n",
    "print(test_x[loc],test_y[loc])"
   ]
  },
  {
   "cell_type": "code",
   "execution_count": 12,
   "id": "bd0c6036-1d7f-4dae-8974-1723db3c0d10",
   "metadata": {},
   "outputs": [],
   "source": [
    "models = list()\n",
    "\n",
    "decision_tree = Pipeline([('m', KNeighborsClassifier())])\n",
    "models.append(('knn', decision_tree))\n",
    "\n",
    "randomforest = Pipeline([('m', RandomForestClassifier())])\n",
    "models.append(('randomforest', randomforest))\n",
    "\n",
    "gnb = Pipeline([('m', GaussianNB())])\n",
    "models.append(('GNB', gnb))\n",
    "# define the voting ensemble\n",
    "lr = LogisticRegression()\n",
    "stack_model = StackingClassifier( estimators = models,final_estimator = lr)"
   ]
  },
  {
   "cell_type": "code",
   "execution_count": 13,
   "id": "45c06e4b-73e5-401b-ae4b-5cf1b0ccb8da",
   "metadata": {},
   "outputs": [
    {
     "data": {
      "text/html": [
       "<style>#sk-container-id-1 {color: black;background-color: white;}#sk-container-id-1 pre{padding: 0;}#sk-container-id-1 div.sk-toggleable {background-color: white;}#sk-container-id-1 label.sk-toggleable__label {cursor: pointer;display: block;width: 100%;margin-bottom: 0;padding: 0.3em;box-sizing: border-box;text-align: center;}#sk-container-id-1 label.sk-toggleable__label-arrow:before {content: \"▸\";float: left;margin-right: 0.25em;color: #696969;}#sk-container-id-1 label.sk-toggleable__label-arrow:hover:before {color: black;}#sk-container-id-1 div.sk-estimator:hover label.sk-toggleable__label-arrow:before {color: black;}#sk-container-id-1 div.sk-toggleable__content {max-height: 0;max-width: 0;overflow: hidden;text-align: left;background-color: #f0f8ff;}#sk-container-id-1 div.sk-toggleable__content pre {margin: 0.2em;color: black;border-radius: 0.25em;background-color: #f0f8ff;}#sk-container-id-1 input.sk-toggleable__control:checked~div.sk-toggleable__content {max-height: 200px;max-width: 100%;overflow: auto;}#sk-container-id-1 input.sk-toggleable__control:checked~label.sk-toggleable__label-arrow:before {content: \"▾\";}#sk-container-id-1 div.sk-estimator input.sk-toggleable__control:checked~label.sk-toggleable__label {background-color: #d4ebff;}#sk-container-id-1 div.sk-label input.sk-toggleable__control:checked~label.sk-toggleable__label {background-color: #d4ebff;}#sk-container-id-1 input.sk-hidden--visually {border: 0;clip: rect(1px 1px 1px 1px);clip: rect(1px, 1px, 1px, 1px);height: 1px;margin: -1px;overflow: hidden;padding: 0;position: absolute;width: 1px;}#sk-container-id-1 div.sk-estimator {font-family: monospace;background-color: #f0f8ff;border: 1px dotted black;border-radius: 0.25em;box-sizing: border-box;margin-bottom: 0.5em;}#sk-container-id-1 div.sk-estimator:hover {background-color: #d4ebff;}#sk-container-id-1 div.sk-parallel-item::after {content: \"\";width: 100%;border-bottom: 1px solid gray;flex-grow: 1;}#sk-container-id-1 div.sk-label:hover label.sk-toggleable__label {background-color: #d4ebff;}#sk-container-id-1 div.sk-serial::before {content: \"\";position: absolute;border-left: 1px solid gray;box-sizing: border-box;top: 0;bottom: 0;left: 50%;z-index: 0;}#sk-container-id-1 div.sk-serial {display: flex;flex-direction: column;align-items: center;background-color: white;padding-right: 0.2em;padding-left: 0.2em;position: relative;}#sk-container-id-1 div.sk-item {position: relative;z-index: 1;}#sk-container-id-1 div.sk-parallel {display: flex;align-items: stretch;justify-content: center;background-color: white;position: relative;}#sk-container-id-1 div.sk-item::before, #sk-container-id-1 div.sk-parallel-item::before {content: \"\";position: absolute;border-left: 1px solid gray;box-sizing: border-box;top: 0;bottom: 0;left: 50%;z-index: -1;}#sk-container-id-1 div.sk-parallel-item {display: flex;flex-direction: column;z-index: 1;position: relative;background-color: white;}#sk-container-id-1 div.sk-parallel-item:first-child::after {align-self: flex-end;width: 50%;}#sk-container-id-1 div.sk-parallel-item:last-child::after {align-self: flex-start;width: 50%;}#sk-container-id-1 div.sk-parallel-item:only-child::after {width: 0;}#sk-container-id-1 div.sk-dashed-wrapped {border: 1px dashed gray;margin: 0 0.4em 0.5em 0.4em;box-sizing: border-box;padding-bottom: 0.4em;background-color: white;}#sk-container-id-1 div.sk-label label {font-family: monospace;font-weight: bold;display: inline-block;line-height: 1.2em;}#sk-container-id-1 div.sk-label-container {text-align: center;}#sk-container-id-1 div.sk-container {/* jupyter's `normalize.less` sets `[hidden] { display: none; }` but bootstrap.min.css set `[hidden] { display: none !important; }` so we also need the `!important` here to be able to override the default hidden behavior on the sphinx rendered scikit-learn.org. See: https://github.com/scikit-learn/scikit-learn/issues/21755 */display: inline-block !important;position: relative;}#sk-container-id-1 div.sk-text-repr-fallback {display: none;}</style><div id=\"sk-container-id-1\" class=\"sk-top-container\"><div class=\"sk-text-repr-fallback\"><pre>StackingClassifier(estimators=[(&#x27;knn&#x27;,\n",
       "                                Pipeline(steps=[(&#x27;m&#x27;,\n",
       "                                                 KNeighborsClassifier())])),\n",
       "                               (&#x27;randomforest&#x27;,\n",
       "                                Pipeline(steps=[(&#x27;m&#x27;,\n",
       "                                                 RandomForestClassifier())])),\n",
       "                               (&#x27;GNB&#x27;, Pipeline(steps=[(&#x27;m&#x27;, GaussianNB())]))],\n",
       "                   final_estimator=LogisticRegression())</pre><b>In a Jupyter environment, please rerun this cell to show the HTML representation or trust the notebook. <br />On GitHub, the HTML representation is unable to render, please try loading this page with nbviewer.org.</b></div><div class=\"sk-container\" hidden><div class=\"sk-item sk-dashed-wrapped\"><div class=\"sk-label-container\"><div class=\"sk-label sk-toggleable\"><input class=\"sk-toggleable__control sk-hidden--visually\" id=\"sk-estimator-id-1\" type=\"checkbox\" ><label for=\"sk-estimator-id-1\" class=\"sk-toggleable__label sk-toggleable__label-arrow\">StackingClassifier</label><div class=\"sk-toggleable__content\"><pre>StackingClassifier(estimators=[(&#x27;knn&#x27;,\n",
       "                                Pipeline(steps=[(&#x27;m&#x27;,\n",
       "                                                 KNeighborsClassifier())])),\n",
       "                               (&#x27;randomforest&#x27;,\n",
       "                                Pipeline(steps=[(&#x27;m&#x27;,\n",
       "                                                 RandomForestClassifier())])),\n",
       "                               (&#x27;GNB&#x27;, Pipeline(steps=[(&#x27;m&#x27;, GaussianNB())]))],\n",
       "                   final_estimator=LogisticRegression())</pre></div></div></div><div class=\"sk-serial\"><div class=\"sk-item\"><div class=\"sk-parallel\"><div class=\"sk-parallel-item\"><div class=\"sk-item\"><div class=\"sk-label-container\"><div class=\"sk-label sk-toggleable\"><label>knn</label></div></div><div class=\"sk-serial\"><div class=\"sk-item\"><div class=\"sk-serial\"><div class=\"sk-item\"><div class=\"sk-estimator sk-toggleable\"><input class=\"sk-toggleable__control sk-hidden--visually\" id=\"sk-estimator-id-2\" type=\"checkbox\" ><label for=\"sk-estimator-id-2\" class=\"sk-toggleable__label sk-toggleable__label-arrow\">KNeighborsClassifier</label><div class=\"sk-toggleable__content\"><pre>KNeighborsClassifier()</pre></div></div></div></div></div></div></div></div><div class=\"sk-parallel-item\"><div class=\"sk-item\"><div class=\"sk-label-container\"><div class=\"sk-label sk-toggleable\"><label>randomforest</label></div></div><div class=\"sk-serial\"><div class=\"sk-item\"><div class=\"sk-serial\"><div class=\"sk-item\"><div class=\"sk-estimator sk-toggleable\"><input class=\"sk-toggleable__control sk-hidden--visually\" id=\"sk-estimator-id-3\" type=\"checkbox\" ><label for=\"sk-estimator-id-3\" class=\"sk-toggleable__label sk-toggleable__label-arrow\">RandomForestClassifier</label><div class=\"sk-toggleable__content\"><pre>RandomForestClassifier()</pre></div></div></div></div></div></div></div></div><div class=\"sk-parallel-item\"><div class=\"sk-item\"><div class=\"sk-label-container\"><div class=\"sk-label sk-toggleable\"><label>GNB</label></div></div><div class=\"sk-serial\"><div class=\"sk-item\"><div class=\"sk-serial\"><div class=\"sk-item\"><div class=\"sk-estimator sk-toggleable\"><input class=\"sk-toggleable__control sk-hidden--visually\" id=\"sk-estimator-id-4\" type=\"checkbox\" ><label for=\"sk-estimator-id-4\" class=\"sk-toggleable__label sk-toggleable__label-arrow\">GaussianNB</label><div class=\"sk-toggleable__content\"><pre>GaussianNB()</pre></div></div></div></div></div></div></div></div></div></div><div class=\"sk-item\"><div class=\"sk-parallel\"><div class=\"sk-parallel-item\"><div class=\"sk-item\"><div class=\"sk-label-container\"><div class=\"sk-label sk-toggleable\"><label>final_estimator</label></div></div><div class=\"sk-serial\"><div class=\"sk-item\"><div class=\"sk-estimator sk-toggleable\"><input class=\"sk-toggleable__control sk-hidden--visually\" id=\"sk-estimator-id-5\" type=\"checkbox\" ><label for=\"sk-estimator-id-5\" class=\"sk-toggleable__label sk-toggleable__label-arrow\">LogisticRegression</label><div class=\"sk-toggleable__content\"><pre>LogisticRegression()</pre></div></div></div></div></div></div></div></div></div></div></div></div>"
      ],
      "text/plain": [
       "StackingClassifier(estimators=[('knn',\n",
       "                                Pipeline(steps=[('m',\n",
       "                                                 KNeighborsClassifier())])),\n",
       "                               ('randomforest',\n",
       "                                Pipeline(steps=[('m',\n",
       "                                                 RandomForestClassifier())])),\n",
       "                               ('GNB', Pipeline(steps=[('m', GaussianNB())]))],\n",
       "                   final_estimator=LogisticRegression())"
      ]
     },
     "execution_count": 13,
     "metadata": {},
     "output_type": "execute_result"
    }
   ],
   "source": [
    "stack_model"
   ]
  },
  {
   "cell_type": "code",
   "execution_count": 14,
   "id": "ec79372c-3865-4025-a26e-0d59345df840",
   "metadata": {},
   "outputs": [
    {
     "data": {
      "text/plain": [
       "[('knn', Pipeline(steps=[('m', KNeighborsClassifier())])),\n",
       " ('randomforest', Pipeline(steps=[('m', RandomForestClassifier())])),\n",
       " ('GNB', Pipeline(steps=[('m', GaussianNB())]))]"
      ]
     },
     "execution_count": 14,
     "metadata": {},
     "output_type": "execute_result"
    }
   ],
   "source": [
    "models"
   ]
  },
  {
   "cell_type": "code",
   "execution_count": 15,
   "id": "db1f2ecd-7da9-40d6-8500-86ad439c75a5",
   "metadata": {},
   "outputs": [],
   "source": [
    "cv = RepeatedStratifiedKFold(n_splits=10, n_repeats=3)\n",
    "n_scores = cross_val_score(ensemble, train_x, train_y, scoring='accuracy', cv=cv, n_jobs=6)"
   ]
  },
  {
   "cell_type": "code",
   "execution_count": 35,
   "id": "86a7a9a1-e4b6-4d19-925c-351326597d10",
   "metadata": {},
   "outputs": [
    {
     "name": "stdout",
     "output_type": "stream",
     "text": [
      "mean =  0.9760232119422572\n"
     ]
    }
   ],
   "source": [
    "mean = np.mean(n_scores)\n",
    "print(\"mean = \", mean)"
   ]
  },
  {
   "cell_type": "code",
   "execution_count": 16,
   "id": "57d9c75e-643b-453e-84c0-abc8b52b6570",
   "metadata": {},
   "outputs": [],
   "source": [
    "ens = stack_model.fit(train_x,train_y)"
   ]
  },
  {
   "cell_type": "code",
   "execution_count": 18,
   "id": "66fe0d4f-4457-4cc5-bdc1-35c9ba41be81",
   "metadata": {},
   "outputs": [
    {
     "name": "stdout",
     "output_type": "stream",
     "text": [
      "0.9462995508689709\n"
     ]
    }
   ],
   "source": [
    "ser=ens.score(test_x,test_y)\n",
    "print(ser)"
   ]
  },
  {
   "cell_type": "code",
   "execution_count": null,
   "id": "c797436e-8918-4a61-a179-6428768af2af",
   "metadata": {},
   "outputs": [],
   "source": [
    "save_mod(e,\"test_tf_df\")"
   ]
  }
 ],
 "metadata": {
  "kernelspec": {
   "display_name": "Python 3 (ipykernel)",
   "language": "python",
   "name": "python3"
  },
  "language_info": {
   "codemirror_mode": {
    "name": "ipython",
    "version": 3
   },
   "file_extension": ".py",
   "mimetype": "text/x-python",
   "name": "python",
   "nbconvert_exporter": "python",
   "pygments_lexer": "ipython3",
   "version": "3.8.4"
  }
 },
 "nbformat": 4,
 "nbformat_minor": 5
}
